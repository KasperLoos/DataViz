{
 "cells": [
  {
   "cell_type": "code",
   "execution_count": null,
   "id": "Hbol",
   "metadata": {},
   "outputs": [],
   "source": [
    "import marimo as mo\n",
    "import pandas as pd\n",
    "import os\n",
    "import random\n",
    "import math\n",
    "from svg import SVG, Circle, Line, Title, Path, Ellipse"
   ]
  },
  {
   "cell_type": "code",
   "execution_count": null,
   "id": "MJUe",
   "metadata": {},
   "outputs": [],
   "source": [
    "os.chdir(\"C:/Users/32493/Google Drive/ku leuven/data analysis/data visualization\")\n",
    "pigs = pd.read_excel(\"output.xlsx\")"
   ]
  },
  {
   "cell_type": "code",
   "execution_count": null,
   "id": "vblA",
   "metadata": {},
   "outputs": [],
   "source": [
    "# Get list of unique cages (stations)\n",
    "stations = sorted(pigs['station'].unique().astype(str))\n",
    "\n",
    "# UI dropdown widget\n",
    "station_dropdown = mo.ui.dropdown(\n",
    "    options=stations,\n",
    "    value=stations[0],\n",
    "    label=\"Select a cage (station)\"\n",
    ")"
   ]
  },
  {
   "cell_type": "code",
   "execution_count": null,
   "id": "bkHC",
   "metadata": {},
   "outputs": [],
   "source": [
    "selected_station = int(station_dropdown.value)\n",
    "station_pigs = pigs[pigs['station'] == selected_station]\n",
    "pig_ids = station_pigs['Pig_1'].unique().tolist()"
   ]
  },
  {
   "cell_type": "code",
   "execution_count": null,
   "id": "lEQa",
   "metadata": {},
   "outputs": [],
   "source": [
    "coordinates_circles = [\n",
    "    (500,100),\n",
    "    (325,175),\n",
    "    (675,175),\n",
    "    (850,300),\n",
    "    (150,300),\n",
    "    (900,550),\n",
    "    (100,550),\n",
    "    (800,750),\n",
    "    (200,750),\n",
    "    (600,900),\n",
    "    (400,900),\n",
    "\n",
    "]"
   ]
  },
  {
   "cell_type": "code",
   "execution_count": null,
   "id": "PKri",
   "metadata": {},
   "outputs": [],
   "source": [
    "id_to_coord = dict(zip(pig_ids, coordinates_circles))"
   ]
  },
  {
   "cell_type": "code",
   "execution_count": null,
   "id": "Xref",
   "metadata": {},
   "outputs": [],
   "source": [
    "circles = [\n",
    "    Circle(cx=x, cy=y, r=10, class_= \"group1\", elements=[Title(elements=[str(pig_id)])])\n",
    "    for (x, y), pig_id in zip(coordinates_circles, pig_ids)\n",
    "]"
   ]
  },
  {
   "cell_type": "code",
   "execution_count": null,
   "id": "SFPL",
   "metadata": {},
   "outputs": [],
   "source": [
    "lines = []\n",
    "\n",
    "for _, row in pigs.iterrows():\n",
    "    pig1 = row['Pig_1']\n",
    "    pig2 = row['Pig_2']\n",
    "    opacity = row['Count']**2 / 250000\n",
    "\n",
    "    # Get coordinates\n",
    "    if pig1 in id_to_coord and pig2 in id_to_coord:\n",
    "        x1, y1 = id_to_coord[pig1]\n",
    "        x2, y2 = id_to_coord[pig2]\n",
    "\n",
    "        lines.append(\n",
    "            Line(\n",
    "                x1=x1,\n",
    "                y1=y1,\n",
    "                x2=x2,\n",
    "                y2=y2,\n",
    "                class_= \"group1\",\n",
    "                elements=[Title(elements=[str(row['Count'])])],\n",
    "                stroke_opacity=opacity,\n",
    "            )\n",
    "        )"
   ]
  },
  {
   "cell_type": "code",
   "execution_count": null,
   "id": "BYtC",
   "metadata": {},
   "outputs": [],
   "source": [
    "self_counts = pigs[pigs['Pig_1'] == pigs['Pig_2']].set_index('Pig_1')['Count'].to_dict()\n",
    "\n",
    "paths = []\n",
    "for (x, y), pig_id, angle in zip(coordinates_circles, pig_ids, \n",
    "    [-0, -30, 30, 60, -60, 90, -90, 120, -120, 180, -180]):\n",
    "\n",
    "    count = self_counts.get(pig_id, 0)\n",
    "    _opacity = (count / 2000) if count else 0.0\n",
    "\n",
    "    paths.append(\n",
    "        Path(\n",
    "            d=f\"M {x},{y} C {x-100},{y-75} {x+100},{y-75} {x},{y}\",\n",
    "            transform=f\"rotate({angle} {x} {y})\",\n",
    "            stroke=\"purple\",\n",
    "            stroke_opacity=_opacity,\n",
    "            fill=\"none\",\n",
    "            class_ = \"group1\",\n",
    "            elements=[Title(elements=[str(count)])]\n",
    "        )\n",
    "    )"
   ]
  },
  {
   "cell_type": "markdown",
   "id": "emfo",
   "metadata": {},
   "source": [
    "<style>\n",
    "line.group1 {\n",
    "        stroke : black;\n",
    "        stroke-width: 3;\n",
    "        cursor: pointer;\n",
    "}\n",
    "\n",
    "line.group1:hover {\n",
    "    stroke: red;\n",
    "    stroke-width: 6;\n",
    "}\n",
    "\n",
    "path.group1 {\n",
    "        stroke : black;\n",
    "        stroke-width: 3;\n",
    "        cursor: pointer;\n",
    "}\n",
    "\n",
    "path.group1:hover {\n",
    "    stroke: red;\n",
    "    stroke-width: 6;\n",
    "}\n",
    "</style>"
   ]
  },
  {
   "cell_type": "code",
   "execution_count": null,
   "id": "Hstk",
   "metadata": {},
   "outputs": [],
   "source": [
    "station_dropdown"
   ]
  },
  {
   "cell_type": "code",
   "execution_count": null,
   "id": "iLit",
   "metadata": {},
   "outputs": [],
   "source": [
    "def pig_svg(x, y, pig_id):\n",
    "    scale_factor = 1.3  # Increase this value to make the pig larger\n",
    "\n",
    "    return f'''\n",
    "    <g transform=\"translate({x},{y})\" class=\"group1\" id=\"circle-{pig_id}\">\n",
    "        <title>{pig_id}</title>\n",
    "        <!-- Pig Body (scaled) -->\n",
    "        <circle cx=\"0\" cy=\"0\" r=\"{12 * scale_factor}\" fill=\"pink\" stroke=\"black\" />\n",
    "\n",
    "        <!-- Ears (scaled) -->\n",
    "        <path d=\"M {-8 * scale_factor},{-10 * scale_factor} Q {-10 * scale_factor},{-15 * scale_factor} {-5 *        scale_factor},{-12 * scale_factor}\" fill=\"pink\" stroke=\"black\"/>\n",
    "        <path d=\"M {8 * scale_factor},{-10 * scale_factor} Q {10 * scale_factor},{-15 * scale_factor} {5 * scale_factor},{-12 * scale_factor}\" fill=\"pink\" stroke=\"black\"/>\n",
    "\n",
    "        <!-- Eyes (scaled) -->\n",
    "        <circle cx=\"{-4 * scale_factor}\" cy=\"{-3 * scale_factor}\" r=\"{1.5 * scale_factor}\" fill=\"black\"/>\n",
    "        <circle cx=\"{4 * scale_factor}\" cy=\"{-3 * scale_factor}\" r=\"{1.5 * scale_factor}\" fill=\"black\"/>\n",
    "\n",
    "        <!-- Nose (scaled) -->\n",
    "        <ellipse cx=\"0\" cy=\"{4 * scale_factor}\" rx=\"{5 * scale_factor}\" ry=\"{3 * scale_factor}\" fill=\"#ffcccc\" stroke=\"black\"/>\n",
    "        <circle cx=\"{-2 * scale_factor}\" cy=\"{4 * scale_factor}\" r=\"{0.5 * scale_factor}\" fill=\"black\"/>\n",
    "        <circle cx=\"{2 * scale_factor}\" cy=\"{4 * scale_factor}\" r=\"{0.5 * scale_factor}\" fill=\"black\"/>\n",
    "    </g>\n",
    "    '''\n",
    "\n",
    "pig_svgs = []\n",
    "for (_x, _y), _pig_id in zip(coordinates_circles, pig_ids):\n",
    "    pig_svgs.append(pig_svg(_x, _y, _pig_id))\n",
    "\n",
    "\n",
    "svg_content = '''\n",
    "<svg width=\"1000\" height=\"1000\">\n",
    "    <style>\n",
    "        .group1 {\n",
    "            cursor: pointer;\n",
    "            transition: all 0.3s ease;\n",
    "        }\n",
    "\n",
    "        .group1:hover circle {\n",
    "            fill: red;  # Change the body color on hover\n",
    "        }\n",
    "\n",
    "        .group1:hover path {\n",
    "            stroke: red;  # Change the ears color on hover\n",
    "        }\n",
    "\n",
    "        .group1:hover circle, .group1:hover ellipse {\n",
    "            fill: #ff6666;  # Change eyes and nose color\n",
    "        }\n",
    "    </style>\n",
    "'''\n",
    "\n",
    "# Loop through coordinates and pig IDs, and append the pig SVG for each position\n",
    "for (_x, _y), _pig_id in zip(coordinates_circles, pig_ids):\n",
    "    svg_content += pig_svg(_x, _y, _pig_id)\n",
    "\n",
    "svg_content += '''\n",
    "</svg>\n",
    "'''"
   ]
  },
  {
   "cell_type": "code",
   "execution_count": null,
   "id": "RGSE",
   "metadata": {},
   "outputs": [],
   "source": [
    "all_elements = circles + paths + lines\n",
    "all_elements.append(svg_content)"
   ]
  },
  {
   "cell_type": "code",
   "execution_count": null,
   "id": "Kclp",
   "metadata": {},
   "outputs": [],
   "source": [
    "plot = SVG(\n",
    "    width=1000,\n",
    "    height=1000,\n",
    "    elements= all_elements\n",
    ")"
   ]
  },
  {
   "cell_type": "code",
   "execution_count": null,
   "id": "nWHF",
   "metadata": {},
   "outputs": [],
   "source": [
    "mo.Html(plot.as_str())"
   ]
  },
  {
   "cell_type": "code",
   "execution_count": null,
   "id": "ZHCJ",
   "metadata": {},
   "outputs": [],
   "source": []
  }
 ],
 "metadata": {},
 "nbformat": 4,
 "nbformat_minor": 5
}
